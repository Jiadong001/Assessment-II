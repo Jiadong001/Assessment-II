{
 "cells": [
  {
   "cell_type": "code",
   "execution_count": 2,
   "metadata": {},
   "outputs": [
    {
     "data": {
      "text/plain": [
       "array([0, 1, 0, 0, 0, 1, 0, 0, 1, 0, 0, 1, 0, 0, 0, 1, 0, 0, 0, 0],\n",
       "      dtype=int64)"
      ]
     },
     "execution_count": 2,
     "metadata": {},
     "output_type": "execute_result"
    }
   ],
   "source": [
    "import pandas as pd\n",
    "import numpy as np\n",
    "import model as Tmodel      #TransPHLA model\n",
    "import torch\n",
    "import torch.utils.data as Data\n",
    "\n",
    "file_name = \"data_csv/train_data_test.csv\"\n",
    "data = pd.read_csv(file_name)[0:20] \n",
    "bind_labels = np.array(data['label'])\n",
    "data_num = len(bind_labels)\n",
    "bind_labels"
   ]
  },
  {
   "cell_type": "code",
   "execution_count": 3,
   "metadata": {},
   "outputs": [
    {
     "data": {
      "text/plain": [
       "<torch.utils.data.dataloader.DataLoader at 0x1fb7aebe970>"
      ]
     },
     "execution_count": 3,
     "metadata": {},
     "output_type": "execute_result"
    }
   ],
   "source": [
    "pep_inputs, HLA_inputs = Tmodel.make_data(data)\n",
    "batch_size = len(data) if len(data)<10 else 10\n",
    "val_loader = Data.DataLoader(Tmodel.MyDataSet(pep_inputs, HLA_inputs), batch_size = batch_size, shuffle = False, num_workers = 0)\n",
    "val_loader"
   ]
  },
  {
   "cell_type": "code",
   "execution_count": 4,
   "metadata": {},
   "outputs": [
    {
     "data": {
      "text/plain": [
       "array([0, 1, 0, 0, 0, 0, 0, 0, 1, 0, 0, 1, 0, 0, 0, 1, 0, 0, 0, 0])"
      ]
     },
     "execution_count": 4,
     "metadata": {},
     "output_type": "execute_result"
    }
   ],
   "source": [
    "device = torch.device('cuda' if torch.cuda.is_available() else 'cpu')\n",
    "\n",
    "'''加载模型'''\n",
    "model_file = 'model/model_layer1_multihead9_fold4.pkl'\n",
    "\n",
    "model_eval = Tmodel.Transformer().to(device)\n",
    "model_eval.load_state_dict(torch.load(model_file), strict = True)\n",
    "model_eval = model_eval.to(device)\n",
    "\n",
    "'''预测'''\n",
    "model_eval.eval()\n",
    "y_pred, y_prob, attns = Tmodel.eval_step(model_eval, val_loader, 0.5, use_cuda=True)     #output: 预测值(0/1)，概率，注意力\n",
    "y_pred"
   ]
  },
  {
   "cell_type": "code",
   "execution_count": 5,
   "metadata": {},
   "outputs": [
    {
     "data": {
      "text/plain": [
       "0.95"
      ]
     },
     "execution_count": 5,
     "metadata": {},
     "output_type": "execute_result"
    }
   ],
   "source": [
    "\n",
    "y_pred[y_pred != bind_labels] = 0\n",
    "y_pred[y_pred == bind_labels] = 1\n",
    "\n",
    "correct_num = np.sum(y_pred)\n",
    "accuracy = correct_num/data_num\n",
    "\n",
    "accuracy"
   ]
  },
  {
   "cell_type": "code",
   "execution_count": 2,
   "metadata": {},
   "outputs": [
    {
     "name": "stdout",
     "output_type": "stream",
     "text": [
      "accuracy on TransPHLA is 0.8480\n"
     ]
    }
   ],
   "source": [
    "import complete_models as cmodels\n",
    "\n",
    "file_name = \"data_csv/external_set3.csv\"\n",
    "\n",
    "pre_TransPHLA, accuracy_TransPHLA = cmodels.use_TransPHLA(file_name)\n",
    "print(\"accuracy on TransPHLA is {:.4f}\".format(accuracy_TransPHLA))"
   ]
  },
  {
   "cell_type": "code",
   "execution_count": 1,
   "metadata": {},
   "outputs": [
    {
     "name": "stdout",
     "output_type": "stream",
     "text": [
      "hello\n"
     ]
    }
   ],
   "source": [
    "print(\"hello\")"
   ]
  }
 ],
 "metadata": {
  "kernelspec": {
   "display_name": "Python 3.8.13 ('pytorch_170')",
   "language": "python",
   "name": "python3"
  },
  "language_info": {
   "codemirror_mode": {
    "name": "ipython",
    "version": 3
   },
   "file_extension": ".py",
   "mimetype": "text/x-python",
   "name": "python",
   "nbconvert_exporter": "python",
   "pygments_lexer": "ipython3",
   "version": "3.8.13"
  },
  "orig_nbformat": 4,
  "vscode": {
   "interpreter": {
    "hash": "bf337d3a884c8d69202f4cee681b5acd02391ec4c3aff572d6b7c6d6c2584a59"
   }
  }
 },
 "nbformat": 4,
 "nbformat_minor": 2
}
